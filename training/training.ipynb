{
  "cells": [
    {
      "cell_type": "markdown",
      "metadata": {
        "id": "0be57a1f"
      },
      "source": [
        "\n",
        "# Training a Neural Network for Water Quality Classification\n",
        "\n",
        "This notebook demonstrates the process of training a neural network to classify water quality into 'healthy' or 'unhealthy' categories based on specific parameters.\n",
        "\n",
        "## Steps Covered:\n",
        "1. Loading and exploring the dataset\n",
        "2. Preprocessing the data (handling missing values, encoding, and scaling)\n",
        "3. Splitting the data into training, validation, and testing sets\n",
        "4. Building and training a neural network\n",
        "5. Evaluating the model performance\n"
      ]
    },
    {
      "cell_type": "code",
      "execution_count": null,
      "metadata": {
        "id": "EiJC7De8_Ahv"
      },
      "outputs": [],
      "source": [
        "import tensorflow as tf\n",
        "import pandas as pd\n",
        "# Split the dataset into training, validation, and testing sets\n",
        "from sklearn.model_selection import train_test_split\n",
        "import numpy as np"
      ]
    },
    {
      "cell_type": "code",
      "execution_count": null,
      "metadata": {
        "id": "qCqvHXpz_Iit"
      },
      "outputs": [],
      "source": [
        "from tensorflow.keras.models import Sequential\n",
        "from tensorflow.keras.layers import Dense, Activation"
      ]
    },
    {
      "cell_type": "code",
      "execution_count": null,
      "metadata": {
        "colab": {
          "base_uri": "https://localhost:8080/"
        },
        "id": "_GW2YY0D_MpB",
        "outputId": "4a973e55-9d8e-4a57-eefe-8716323c38c1"
      },
      "outputs": [
        {
          "name": "stdout",
          "output_type": "stream",
          "text": [
            "     PH     TH    CA      MG  CHLORIDE  SULPHATE  NITRATE  FLUORIDE      TDS  \\\n",
            "0  8.34  130.0  22.0  18.225    17.725      3.21     3.63      0.37  217.748   \n",
            "1  8.46  120.0  14.0  20.655    38.995     46.22     2.46      0.24  360.745   \n",
            "2  8.11  160.0  12.0  31.590    17.725     30.46     0.00      0.96  239.246   \n",
            "3  7.89  200.0  22.0  35.235    17.725     13.34     0.00      1.02  253.220   \n",
            "4  8.01  125.0  12.0  23.085    14.180     13.37     0.00      0.74  185.361   \n",
            "\n",
            "   Health_Status  \n",
            "0              1  \n",
            "1              1  \n",
            "2              0  \n",
            "3              0  \n",
            "4              1  \n"
          ]
        }
      ],
      "source": [
        "# Load the dataset into a Pandas DataFrame\n",
        "data = pd.read_csv('/content/training_data.csv')\n",
        "print(data.head())"
      ]
    },
    {
      "cell_type": "code",
      "execution_count": null,
      "metadata": {
        "id": "GBi4H4ff_otT"
      },
      "outputs": [],
      "source": [
        "X = data.drop('Health_Status', axis=1)\n",
        "y = data['Health_Status']\n"
      ]
    },
    {
      "cell_type": "code",
      "execution_count": null,
      "metadata": {
        "id": "hC5_9Uw2AJzX"
      },
      "outputs": [],
      "source": [
        "# Split the dataset into training, validation, and testing sets\n",
        "X_train, X_test, y_train, y_test = train_test_split(X, y, test_size=0.2, random_state=42, stratify=y)\n"
      ]
    },
    {
      "cell_type": "code",
      "execution_count": null,
      "metadata": {
        "id": "PCW04THeASyD"
      },
      "outputs": [],
      "source": [
        "# Split the dataset into training, validation, and testing sets\n",
        "X_train, X_val, y_train, y_val = train_test_split(X_train, y_train, test_size=0.25, random_state=42, stratify=y_train)\n"
      ]
    },
    {
      "cell_type": "code",
      "execution_count": null,
      "metadata": {
        "colab": {
          "base_uri": "https://localhost:8080/"
        },
        "id": "nFKI9rQFAc27",
        "outputId": "a5c0918e-6d6e-4ba9-fff0-2b37b1a30369"
      },
      "outputs": [
        {
          "name": "stdout",
          "output_type": "stream",
          "text": [
            "(11466, 9)\n",
            "(3822, 9)\n",
            "(3822, 9)\n",
            "(11466,)\n",
            "(3822,)\n",
            "(3822,)\n"
          ]
        }
      ],
      "source": [
        "print(X_train.shape)\n",
        "print(X_val.shape)\n",
        "print(X_test.shape)\n",
        "print(y_train.shape)\n",
        "print(y_val.shape)\n",
        "print(y_test.shape)"
      ]
    },
    {
      "cell_type": "code",
      "execution_count": null,
      "metadata": {
        "colab": {
          "base_uri": "https://localhost:8080/"
        },
        "id": "NHyq55IGAjA4",
        "outputId": "723437d6-488e-4ec8-ae1d-30be0dcec727"
      },
      "outputs": [
        {
          "name": "stderr",
          "output_type": "stream",
          "text": [
            "/usr/local/lib/python3.10/dist-packages/keras/src/layers/core/dense.py:87: UserWarning: Do not pass an `input_shape`/`input_dim` argument to a layer. When using Sequential models, prefer using an `Input(shape)` object as the first layer in the model instead.\n",
            "  super().__init__(activity_regularizer=activity_regularizer, **kwargs)\n"
          ]
        }
      ],
      "source": [
        "# Define the architecture of the neural network\n",
        "model = Sequential([\n",
        "    Dense(64, input_shape=(9,)),\n",
        "    Activation('relu'),\n",
        "    Dense(32),\n",
        "    Activation('relu'),\n",
        "    Dense(16),\n",
        "    Activation('relu'),\n",
        "    Dense(8),\n",
        "    Activation('relu'),\n",
        "    Dense(1),\n",
        "    Activation('sigmoid')\n",
        "])"
      ]
    },
    {
      "cell_type": "code",
      "execution_count": null,
      "metadata": {
        "colab": {
          "base_uri": "https://localhost:8080/"
        },
        "id": "nIez-LE4vxTp",
        "outputId": "a7d64b56-9616-48c9-fc20-8446457f4d1d"
      },
      "outputs": [
        {
          "name": "stderr",
          "output_type": "stream",
          "text": [
            "WARNING:absl:You are saving your model as an HDF5 file via `model.save()` or `keras.saving.save_model(model)`. This file format is considered legacy. We recommend using instead the native Keras format, e.g. `model.save('my_model.keras')` or `keras.saving.save_model(model, 'my_model.keras')`. \n"
          ]
        }
      ],
      "source": [
        "model.save('model.h5')"
      ]
    },
    {
      "cell_type": "code",
      "execution_count": null,
      "metadata": {
        "id": "6uKQongNBFrS"
      },
      "outputs": [],
      "source": [
        "# Compile the model with a loss function, optimizer, and metrics\n",
        "model.compile(optimizer='adam',\n",
        "              loss='binary_crossentropy' ,\n",
        "              metrics=['accuracy'])"
      ]
    },
    {
      "cell_type": "code",
      "execution_count": null,
      "metadata": {
        "colab": {
          "base_uri": "https://localhost:8080/"
        },
        "id": "T-qN6SzmBSXy",
        "outputId": "245a593a-0da5-45d0-ebc7-dc9d5f30cb1e"
      },
      "outputs": [
        {
          "name": "stdout",
          "output_type": "stream",
          "text": [
            "Epoch 1/100\n",
            "\u001b[1m359/359\u001b[0m \u001b[32m━━━━━━━━━━━━━━━━━━━━\u001b[0m\u001b[37m\u001b[0m \u001b[1m7s\u001b[0m 4ms/step - accuracy: 0.7220 - loss: 4.2535 - val_accuracy: 0.8859 - val_loss: 0.2502\n",
            "Epoch 2/100\n",
            "\u001b[1m359/359\u001b[0m \u001b[32m━━━━━━━━━━━━━━━━━━━━\u001b[0m\u001b[37m\u001b[0m \u001b[1m2s\u001b[0m 2ms/step - accuracy: 0.8891 - loss: 0.2526 - val_accuracy: 0.8605 - val_loss: 0.3047\n",
            "Epoch 3/100\n",
            "\u001b[1m359/359\u001b[0m \u001b[32m━━━━━━━━━━━━━━━━━━━━\u001b[0m\u001b[37m\u001b[0m \u001b[1m1s\u001b[0m 2ms/step - accuracy: 0.8935 - loss: 0.2461 - val_accuracy: 0.9194 - val_loss: 0.1949\n",
            "Epoch 4/100\n",
            "\u001b[1m359/359\u001b[0m \u001b[32m━━━━━━━━━━━━━━━━━━━━\u001b[0m\u001b[37m\u001b[0m \u001b[1m3s\u001b[0m 7ms/step - accuracy: 0.9208 - loss: 0.1912 - val_accuracy: 0.9058 - val_loss: 0.2138\n",
            "Epoch 5/100\n",
            "\u001b[1m359/359\u001b[0m \u001b[32m━━━━━━━━━━━━━━━━━━━━\u001b[0m\u001b[37m\u001b[0m \u001b[1m3s\u001b[0m 2ms/step - accuracy: 0.9188 - loss: 0.1937 - val_accuracy: 0.9320 - val_loss: 0.1794\n",
            "Epoch 6/100\n",
            "\u001b[1m359/359\u001b[0m \u001b[32m━━━━━━━━━━━━━━━━━━━━\u001b[0m\u001b[37m\u001b[0m \u001b[1m1s\u001b[0m 2ms/step - accuracy: 0.9213 - loss: 0.1863 - val_accuracy: 0.9160 - val_loss: 0.1894\n",
            "Epoch 7/100\n",
            "\u001b[1m359/359\u001b[0m \u001b[32m━━━━━━━━━━━━━━━━━━━━\u001b[0m\u001b[37m\u001b[0m \u001b[1m1s\u001b[0m 3ms/step - accuracy: 0.9270 - loss: 0.1750 - val_accuracy: 0.9333 - val_loss: 0.1699\n",
            "Epoch 8/100\n",
            "\u001b[1m359/359\u001b[0m \u001b[32m━━━━━━━━━━━━━━━━━━━━\u001b[0m\u001b[37m\u001b[0m \u001b[1m1s\u001b[0m 2ms/step - accuracy: 0.9305 - loss: 0.1716 - val_accuracy: 0.9197 - val_loss: 0.1996\n",
            "Epoch 9/100\n",
            "\u001b[1m359/359\u001b[0m \u001b[32m━━━━━━━━━━━━━━━━━━━━\u001b[0m\u001b[37m\u001b[0m \u001b[1m1s\u001b[0m 2ms/step - accuracy: 0.9319 - loss: 0.1625 - val_accuracy: 0.9314 - val_loss: 0.1823\n",
            "Epoch 10/100\n",
            "\u001b[1m359/359\u001b[0m \u001b[32m━━━━━━━━━━━━━━━━━━━━\u001b[0m\u001b[37m\u001b[0m \u001b[1m1s\u001b[0m 2ms/step - accuracy: 0.9199 - loss: 0.1933 - val_accuracy: 0.9178 - val_loss: 0.1784\n",
            "Epoch 11/100\n",
            "\u001b[1m359/359\u001b[0m \u001b[32m━━━━━━━━━━━━━━━━━━━━\u001b[0m\u001b[37m\u001b[0m \u001b[1m1s\u001b[0m 2ms/step - accuracy: 0.9316 - loss: 0.1566 - val_accuracy: 0.8998 - val_loss: 0.2391\n",
            "Epoch 12/100\n",
            "\u001b[1m359/359\u001b[0m \u001b[32m━━━━━━━━━━━━━━━━━━━━\u001b[0m\u001b[37m\u001b[0m \u001b[1m1s\u001b[0m 2ms/step - accuracy: 0.9336 - loss: 0.1646 - val_accuracy: 0.9328 - val_loss: 0.1617\n",
            "Epoch 13/100\n",
            "\u001b[1m359/359\u001b[0m \u001b[32m━━━━━━━━━━━━━━━━━━━━\u001b[0m\u001b[37m\u001b[0m \u001b[1m1s\u001b[0m 2ms/step - accuracy: 0.9323 - loss: 0.1538 - val_accuracy: 0.9406 - val_loss: 0.1528\n",
            "Epoch 14/100\n",
            "\u001b[1m359/359\u001b[0m \u001b[32m━━━━━━━━━━━━━━━━━━━━\u001b[0m\u001b[37m\u001b[0m \u001b[1m2s\u001b[0m 3ms/step - accuracy: 0.9338 - loss: 0.1604 - val_accuracy: 0.9202 - val_loss: 0.1943\n",
            "Epoch 15/100\n",
            "\u001b[1m359/359\u001b[0m \u001b[32m━━━━━━━━━━━━━━━━━━━━\u001b[0m\u001b[37m\u001b[0m \u001b[1m1s\u001b[0m 4ms/step - accuracy: 0.9436 - loss: 0.1404 - val_accuracy: 0.9288 - val_loss: 0.1693\n",
            "Epoch 16/100\n",
            "\u001b[1m359/359\u001b[0m \u001b[32m━━━━━━━━━━━━━━━━━━━━\u001b[0m\u001b[37m\u001b[0m \u001b[1m1s\u001b[0m 3ms/step - accuracy: 0.9343 - loss: 0.1514 - val_accuracy: 0.9377 - val_loss: 0.1658\n",
            "Epoch 17/100\n",
            "\u001b[1m359/359\u001b[0m \u001b[32m━━━━━━━━━━━━━━━━━━━━\u001b[0m\u001b[37m\u001b[0m \u001b[1m1s\u001b[0m 2ms/step - accuracy: 0.9315 - loss: 0.1595 - val_accuracy: 0.9417 - val_loss: 0.1476\n",
            "Epoch 18/100\n",
            "\u001b[1m359/359\u001b[0m \u001b[32m━━━━━━━━━━━━━━━━━━━━\u001b[0m\u001b[37m\u001b[0m \u001b[1m1s\u001b[0m 3ms/step - accuracy: 0.9378 - loss: 0.1457 - val_accuracy: 0.9260 - val_loss: 0.1878\n",
            "Epoch 19/100\n",
            "\u001b[1m359/359\u001b[0m \u001b[32m━━━━━━━━━━━━━━━━━━━━\u001b[0m\u001b[37m\u001b[0m \u001b[1m1s\u001b[0m 2ms/step - accuracy: 0.9422 - loss: 0.1387 - val_accuracy: 0.9432 - val_loss: 0.1486\n",
            "Epoch 20/100\n",
            "\u001b[1m359/359\u001b[0m \u001b[32m━━━━━━━━━━━━━━━━━━━━\u001b[0m\u001b[37m\u001b[0m \u001b[1m1s\u001b[0m 2ms/step - accuracy: 0.9349 - loss: 0.1479 - val_accuracy: 0.9356 - val_loss: 0.1597\n",
            "Epoch 21/100\n",
            "\u001b[1m359/359\u001b[0m \u001b[32m━━━━━━━━━━━━━━━━━━━━\u001b[0m\u001b[37m\u001b[0m \u001b[1m1s\u001b[0m 2ms/step - accuracy: 0.9408 - loss: 0.1391 - val_accuracy: 0.9335 - val_loss: 0.1591\n",
            "Epoch 22/100\n",
            "\u001b[1m359/359\u001b[0m \u001b[32m━━━━━━━━━━━━━━━━━━━━\u001b[0m\u001b[37m\u001b[0m \u001b[1m1s\u001b[0m 2ms/step - accuracy: 0.9358 - loss: 0.1503 - val_accuracy: 0.9228 - val_loss: 0.1913\n"
          ]
        }
      ],
      "source": [
        "# Train the model with the training data and validate on the validation set\n",
        "history = model.fit(\n",
        "    X_train, y_train,\n",
        "    epochs=100,\n",
        "    batch_size=32,\n",
        "    validation_data=(X_val, y_val),\n",
        "    callbacks=[tf.keras.callbacks.EarlyStopping(patience=5, restore_best_weights=True)]\n",
        ")\n"
      ]
    },
    {
      "cell_type": "code",
      "execution_count": null,
      "metadata": {
        "colab": {
          "base_uri": "https://localhost:8080/"
        },
        "id": "XL8G2K4ZBvr8",
        "outputId": "fc1bbd2b-8e24-4339-be60-365d22fa568f"
      },
      "outputs": [
        {
          "name": "stdout",
          "output_type": "stream",
          "text": [
            "\u001b[1m120/120\u001b[0m \u001b[32m━━━━━━━━━━━━━━━━━━━━\u001b[0m\u001b[37m\u001b[0m \u001b[1m0s\u001b[0m 1ms/step - accuracy: 0.9346 - loss: 0.1531\n",
            "Test Loss: 0.15181416273117065\n",
            "Test Accuracy: 0.9379906058311462\n"
          ]
        }
      ],
      "source": [
        "# Evaluate the model on the test set to check generalization performance\n",
        "test_loss, test_accuracy = model.evaluate(X_test, y_test, verbose=1)\n",
        "print(f\"Test Loss: {test_loss}\")\n",
        "print(f\"Test Accuracy: {test_accuracy}\")"
      ]
    },
    {
      "cell_type": "code",
      "execution_count": null,
      "metadata": {
        "id": "ENlKQZffEPhc"
      },
      "outputs": [],
      "source": [
        "weights = model.get_weights()\n",
        "\n"
      ]
    },
    {
      "cell_type": "code",
      "execution_count": null,
      "metadata": {
        "colab": {
          "base_uri": "https://localhost:8080/"
        },
        "id": "P_6rL601EsrN",
        "outputId": "66ed90f9-c318-406d-d4e9-1ff4fd657296"
      },
      "outputs": [
        {
          "name": "stdout",
          "output_type": "stream",
          "text": [
            "(9, 64)\n"
          ]
        }
      ],
      "source": [
        "input_weights = model.layers[0].get_weights()[0]\n",
        "print(input_weights.shape)"
      ]
    },
    {
      "cell_type": "code",
      "execution_count": null,
      "metadata": {
        "colab": {
          "base_uri": "https://localhost:8080/"
        },
        "id": "_DUKCC-1E7EZ",
        "outputId": "c380f974-bc14-4147-e13f-353abb0c0543"
      },
      "outputs": [
        {
          "name": "stdout",
          "output_type": "stream",
          "text": [
            "(9,)\n"
          ]
        }
      ],
      "source": [
        "feature_importance = np.mean(np.abs(input_weights), axis=1)\n",
        "print(feature_importance.shape)"
      ]
    },
    {
      "cell_type": "code",
      "execution_count": null,
      "metadata": {
        "colab": {
          "base_uri": "https://localhost:8080/"
        },
        "id": "yN62sTEgF8Uk",
        "outputId": "8924ab6a-9261-46da-d3e5-fdaefbef570a"
      },
      "outputs": [
        {
          "name": "stdout",
          "output_type": "stream",
          "text": [
            "[0.16951798 0.07292499 0.08530092 0.0764336  0.06886995 0.06573547\n",
            " 0.07829428 0.31485346 0.06806942]\n"
          ]
        }
      ],
      "source": [
        "\n",
        "normalized_importance = feature_importance / np.sum(feature_importance)\n",
        "print(normalized_importance)\n"
      ]
    },
    {
      "cell_type": "code",
      "execution_count": null,
      "metadata": {
        "colab": {
          "base_uri": "https://localhost:8080/"
        },
        "id": "JZ7VnQpQGJUT",
        "outputId": "87c6bf24-e448-4ff9-f2ab-b009288cd424"
      },
      "outputs": [
        {
          "name": "stdout",
          "output_type": "stream",
          "text": [
            "1.0\n"
          ]
        }
      ],
      "source": [
        "print(np.sum(normalized_importance))"
      ]
    },
    {
      "cell_type": "code",
      "execution_count": null,
      "metadata": {
        "id": "uMrbxrt49xlC"
      },
      "outputs": [],
      "source": []
    }
  ],
  "metadata": {
    "colab": {
      "provenance": []
    },
    "kernelspec": {
      "display_name": "Python 3",
      "name": "python3"
    },
    "language_info": {
      "name": "python"
    }
  },
  "nbformat": 4,
  "nbformat_minor": 0
}