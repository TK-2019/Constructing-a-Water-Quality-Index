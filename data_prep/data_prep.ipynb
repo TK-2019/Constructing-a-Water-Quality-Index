{
 "cells": [
  {
   "cell_type": "markdown",
   "id": "7d0c885a",
   "metadata": {},
   "source": [
    "# Data Import and Setup"
   ]
  },
  {
   "cell_type": "code",
   "execution_count": null,
   "metadata": {},
   "outputs": [],
   "source": [
    "import pandas as pd"
   ]
  },
  {
   "cell_type": "code",
   "execution_count": null,
   "metadata": {},
   "outputs": [
    {
     "name": "stdout",
     "output_type": "stream",
     "text": [
      "<bound method NDFrame.head of                 SITE_ID WRIS ID   LATITUDE  LONGITUDE SITE_TYPE  \\\n",
      "0      W115159092441001  W23881  11.866389  92.736111  Dug Well   \n",
      "1                   New  W38814  12.186944  92.791667  Dug Well   \n",
      "2      W123014092513301  W24095  12.503889  92.859167  Dug Well   \n",
      "3      W123129092581301  W24112  12.524722  92.970278  Dug Well   \n",
      "4      W123030092573801  W24098  12.508333  92.960556  Dug Well   \n",
      "...                 ...     ...        ...        ...       ...   \n",
      "85192               New  W40943      22.51      87.33  Dug Well   \n",
      "85193  W220857087092501  W10716      22.18      87.16  Dug Well   \n",
      "85194               New  W40944      22.58      87.52  Dug Well   \n",
      "85195               New  W40945      22.47      87.02  Dug Well   \n",
      "85196               New  W40946      22.61      86.81  Dug Well   \n",
      "\n",
      "                STATE_NAME  DISTRICT_NAME     TAHSIL_NAME       BLOCK_NAME  \\\n",
      "0      Andaman And Nicobar  A & N Islands      Ferrargunj    South Andaman   \n",
      "1      Andaman And Nicobar  A & N Islands  Middle Andaman  Baratang Island   \n",
      "2      Andaman And Nicobar  A & N Islands  Middle Andaman       Mayabunder   \n",
      "3      Andaman And Nicobar  A & N Islands  Middle Andaman       Mayabunder   \n",
      "4      Andaman And Nicobar  A & N Islands  Middle Andaman       Mayabunder   \n",
      "...                    ...            ...             ...              ...   \n",
      "85192          West Bengal  West Midnapur         Salboni          Salboni   \n",
      "85193          West Bengal  West Midnapur        Sankrail         Binpur I   \n",
      "85194          West Bengal  West Midnapur         Saranga          Keshpur   \n",
      "85195          West Bengal  West Midnapur       Sevayatan         Jhargram   \n",
      "85196          West Bengal  West Midnapur           Silda        Binpur-ii   \n",
      "\n",
      "                      SITE_NAME  ... FLUORIDE  SAR  RSC   SiO2    PO4  \\\n",
      "0            Shoal  Bay– 15 No.  ...     0.37  NaN  NaN  13.97    NaN   \n",
      "1      South Creek (Sundergarh)  ...     0.24    0    0  15.14      0   \n",
      "2                     Bakultala  ...     0.96    0    0   7.67      0   \n",
      "3                     Nimbutala  ...     1.02    0    0      0      0   \n",
      "4                Padmanavapuram  ...     0.74    0    0  10.34      0   \n",
      "...                         ...  ...      ...  ...  ...    ...    ...   \n",
      "85192                     Gobru  ...        0    0    0      0  0.197   \n",
      "85193                  Kultikri  ...     0.05    0    0      0    BDL   \n",
      "85194                   Saranga  ...     0.38    0    0      0  0.211   \n",
      "85195                 Sevayatan  ...        0    0    0      0  0.183   \n",
      "85196               Muohi Bundh  ...     0.34    0    0      0  0.873   \n",
      "\n",
      "           TDS Turbidity  %Na Arsenic LR. No  \n",
      "0      217.748       NaN  NaN     NaN    NaN  \n",
      "1      360.745                      0      0  \n",
      "2      239.246       NaN  NaN       0    NaN  \n",
      "3       253.22       NaN  NaN       0    NaN  \n",
      "4      185.361       NaN  NaN       0    NaN  \n",
      "...        ...       ...  ...     ...    ...  \n",
      "85192   75.584                      0      0  \n",
      "85193   316.16       NaN  NaN       0    NaN  \n",
      "85194  307.776                      0      0  \n",
      "85195  25.2544                      0      0  \n",
      "85196    339.2                      0      0  \n",
      "\n",
      "[85197 rows x 37 columns]>\n"
     ]
    }
   ],
   "source": [
    "# Loading the file\n",
    "file_path = '/Users/tejuskhandelwal/Desktop/UGP/GWQ_2010-2018.xlsx'\n",
    "df = pd.read_excel(file_path, engine='openpyxl')\n",
    "print(df.head)"
   ]
  },
  {
   "cell_type": "markdown",
   "id": "8ad24239",
   "metadata": {},
   "source": [
    "# Data Preprocessing\n",
    "This section includes handling missing values, cleaning, and preparing data for analysis."
   ]
  },
  {
   "cell_type": "code",
   "execution_count": null,
   "metadata": {},
   "outputs": [],
   "source": [
    "# Separating important columns\n",
    "columns_to_extract = ['PH', 'TH', 'CA', 'MG', 'CHLORIDE', 'SULPHATE', 'NITRATE', 'FLUORIDE', 'TDS']\n",
    "new_df = df[columns_to_extract]"
   ]
  },
  {
   "cell_type": "code",
   "execution_count": null,
   "metadata": {},
   "outputs": [
    {
     "name": "stdout",
     "output_type": "stream",
     "text": [
      "<bound method NDFrame.head of          PH   TH  CA      MG CHLORIDE SULPHATE NITRATE FLUORIDE      TDS\n",
      "0      8.34  130  22  18.225   17.725     3.21    3.63     0.37  217.748\n",
      "1      8.46  120  14  20.655   38.995    46.22    2.46     0.24  360.745\n",
      "2      8.11  160  12   31.59   17.725    30.46       0     0.96  239.246\n",
      "3      7.89  200  22  35.235   17.725    13.34       0     1.02   253.22\n",
      "4      8.01  125  12  23.085    14.18    13.37       0     0.74  185.361\n",
      "...     ...  ...  ..     ...      ...      ...     ...      ...      ...\n",
      "85192  7.83   60  18   3.645   10.665        0       0        0   75.584\n",
      "85193   7.8  125  38    7.29    85.32       27      19     0.05   316.16\n",
      "85194  7.85  200  38  25.515    78.21       97      42     0.38  307.776\n",
      "85195  8.05   20   2   3.645     7.11        0       0        0  25.2544\n",
      "85196  7.71  175  58    7.29    85.32       16      45     0.34    339.2\n",
      "\n",
      "[85197 rows x 9 columns]>\n"
     ]
    }
   ],
   "source": [
    "print(new_df.head)"
   ]
  },
  {
   "cell_type": "code",
   "execution_count": null,
   "metadata": {},
   "outputs": [
    {
     "name": "stderr",
     "output_type": "stream",
     "text": [
      "/var/folders/s8/md_3hxqs0455zql3_p9ydl4w0000gn/T/ipykernel_68324/2315555786.py:1: SettingWithCopyWarning: \n",
      "A value is trying to be set on a copy of a slice from a DataFrame\n",
      "\n",
      "See the caveats in the documentation: https://pandas.pydata.org/pandas-docs/stable/user_guide/indexing.html#returning-a-view-versus-a-copy\n",
      "  new_df.replace(['ND', 'BDL'], 0, inplace=True)\n"
     ]
    }
   ],
   "source": [
    "# Handling non numeric types\n",
    "new_df.replace(['ND', 'BDL'], 0, inplace=True)"
   ]
  },
  {
   "cell_type": "code",
   "execution_count": null,
   "metadata": {},
   "outputs": [
    {
     "name": "stdout",
     "output_type": "stream",
     "text": [
      "PH          0\n",
      "TH          0\n",
      "CA          0\n",
      "MG          0\n",
      "CHLORIDE    0\n",
      "SULPHATE    0\n",
      "NITRATE     0\n",
      "FLUORIDE    0\n",
      "TDS         0\n",
      "dtype: int64\n"
     ]
    }
   ],
   "source": [
    "print((new_df == 'ND').sum())"
   ]
  },
  {
   "cell_type": "code",
   "execution_count": null,
   "metadata": {},
   "outputs": [
    {
     "name": "stdout",
     "output_type": "stream",
     "text": [
      "PH          0\n",
      "TH          0\n",
      "CA          0\n",
      "MG          0\n",
      "CHLORIDE    0\n",
      "SULPHATE    0\n",
      "NITRATE     0\n",
      "FLUORIDE    0\n",
      "TDS         0\n",
      "dtype: int64\n"
     ]
    }
   ],
   "source": [
    "print((new_df == 'BDL').sum())"
   ]
  },
  {
   "cell_type": "code",
   "execution_count": null,
   "metadata": {},
   "outputs": [
    {
     "name": "stdout",
     "output_type": "stream",
     "text": [
      "PH              4\n",
      "TH           3417\n",
      "CA           3137\n",
      "MG           3148\n",
      "CHLORIDE       12\n",
      "SULPHATE     3137\n",
      "NITRATE      4141\n",
      "FLUORIDE     1205\n",
      "TDS         63720\n",
      "dtype: int64\n"
     ]
    }
   ],
   "source": [
    "print(new_df.isnull().sum())"
   ]
  },
  {
   "cell_type": "code",
   "execution_count": null,
   "metadata": {},
   "outputs": [],
   "source": [
    "# Converting data to numeric\n",
    "new_df = new_df.apply(pd.to_numeric, errors='coerce')"
   ]
  },
  {
   "cell_type": "code",
   "execution_count": null,
   "metadata": {},
   "outputs": [
    {
     "name": "stdout",
     "output_type": "stream",
     "text": [
      "PH             21\n",
      "TH           3422\n",
      "CA           4678\n",
      "MG           4039\n",
      "CHLORIDE       17\n",
      "SULPHATE     3240\n",
      "NITRATE      4280\n",
      "FLUORIDE     1373\n",
      "TDS         64071\n",
      "dtype: int64\n"
     ]
    }
   ],
   "source": [
    "print(new_df.isnull().sum())"
   ]
  },
  {
   "cell_type": "code",
   "execution_count": null,
   "metadata": {},
   "outputs": [
    {
     "name": "stdout",
     "output_type": "stream",
     "text": [
      "PH           1507\n",
      "TH           5714\n",
      "CA           5671\n",
      "MG           5711\n",
      "CHLORIDE     3637\n",
      "SULPHATE    13958\n",
      "NITRATE     14987\n",
      "FLUORIDE     6929\n",
      "TDS          7663\n",
      "dtype: int64\n"
     ]
    }
   ],
   "source": [
    "print((new_df == 0).sum())"
   ]
  },
  {
   "cell_type": "code",
   "execution_count": null,
   "metadata": {},
   "outputs": [],
   "source": [
    "new_df.dropna(inplace=True)"
   ]
  },
  {
   "cell_type": "code",
   "execution_count": null,
   "metadata": {},
   "outputs": [
    {
     "name": "stdout",
     "output_type": "stream",
     "text": [
      "19110\n"
     ]
    }
   ],
   "source": [
    "# print(new_df.head)\n",
    "print(new_df.shape[0])"
   ]
  },
  {
   "cell_type": "code",
   "execution_count": null,
   "metadata": {},
   "outputs": [],
   "source": [
    "# These are the standards as defined by Bureau of Indian Standards\n",
    "bis_standards = {\n",
    "    'PH': (6.5, 8.5),        # Acceptable range for pH\n",
    "    'TH': (0, 200),          # Total Hardness in mg/L\n",
    "    'CA': (0, 75),           # Calcium in mg/L\n",
    "    'MG': (0, 30),           # Magnesium in mg/L\n",
    "    'CHLORIDE': (0, 250),    # Chloride in mg/L\n",
    "    'SULPHATE': (0, 200),    # Sulphate in mg/L\n",
    "    'NITRATE': (0, 45),      # Nitrate in mg/L\n",
    "    'FLUORIDE': (0, 1),    # Fluoride in mg/L\n",
    "    'TDS': (0, 500)          # Total Dissolved Solids in mg/L\n",
    "}"
   ]
  },
  {
   "cell_type": "code",
   "execution_count": null,
   "metadata": {},
   "outputs": [],
   "source": [
    "# Based on whether the data is within the limits we set if water is healthy or unhealthy\n",
    "def check_health(row):\n",
    "    for param, (low, high) in bis_standards.items():\n",
    "        if pd.isna(row[param]) or not (low <= row[param] <= high):\n",
    "            return 0 \n",
    "    return 1 "
   ]
  },
  {
   "cell_type": "code",
   "execution_count": null,
   "metadata": {},
   "outputs": [
    {
     "name": "stdout",
     "output_type": "stream",
     "text": [
      "PH                   2\n",
      "TH                 175\n",
      "CA                  85\n",
      "MG                 126\n",
      "CHLORIDE             4\n",
      "SULPHATE           739\n",
      "NITRATE           3193\n",
      "FLUORIDE          1929\n",
      "TDS               6893\n",
      "Health_Status    14102\n",
      "dtype: int64\n"
     ]
    }
   ],
   "source": [
    "print((new_df == 0).sum())"
   ]
  },
  {
   "cell_type": "code",
   "execution_count": null,
   "metadata": {},
   "outputs": [],
   "source": [
    "new_df['Health_Status'] = new_df.apply(check_health, axis=1)"
   ]
  },
  {
   "cell_type": "code",
   "execution_count": null,
   "metadata": {},
   "outputs": [
    {
     "name": "stdout",
     "output_type": "stream",
     "text": [
      "<bound method NDFrame.head of          PH     TH    CA      MG  CHLORIDE  SULPHATE  NITRATE  FLUORIDE  \\\n",
      "0      8.34  130.0  22.0  18.225    17.725      3.21     3.63      0.37   \n",
      "1      8.46  120.0  14.0  20.655    38.995     46.22     2.46      0.24   \n",
      "2      8.11  160.0  12.0  31.590    17.725     30.46     0.00      0.96   \n",
      "3      7.89  200.0  22.0  35.235    17.725     13.34     0.00      1.02   \n",
      "4      8.01  125.0  12.0  23.085    14.180     13.37     0.00      0.74   \n",
      "...     ...    ...   ...     ...       ...       ...      ...       ...   \n",
      "85192  7.83   60.0  18.0   3.645    10.665      0.00     0.00      0.00   \n",
      "85193  7.80  125.0  38.0   7.290    85.320     27.00    19.00      0.05   \n",
      "85194  7.85  200.0  38.0  25.515    78.210     97.00    42.00      0.38   \n",
      "85195  8.05   20.0   2.0   3.645     7.110      0.00     0.00      0.00   \n",
      "85196  7.71  175.0  58.0   7.290    85.320     16.00    45.00      0.34   \n",
      "\n",
      "            TDS  Health_Status  \n",
      "0      217.7480              1  \n",
      "1      360.7450              1  \n",
      "2      239.2460              0  \n",
      "3      253.2200              0  \n",
      "4      185.3610              1  \n",
      "...         ...            ...  \n",
      "85192   75.5840              1  \n",
      "85193  316.1600              1  \n",
      "85194  307.7760              1  \n",
      "85195   25.2544              1  \n",
      "85196  339.2000              1  \n",
      "\n",
      "[19110 rows x 10 columns]>\n"
     ]
    }
   ],
   "source": [
    "print(new_df.head)"
   ]
  },
  {
   "cell_type": "code",
   "execution_count": null,
   "metadata": {},
   "outputs": [
    {
     "name": "stdout",
     "output_type": "stream",
     "text": [
      "5008\n"
     ]
    }
   ],
   "source": [
    "print((new_df['Health_Status']==1).sum())"
   ]
  },
  {
   "cell_type": "code",
   "execution_count": null,
   "metadata": {},
   "outputs": [
    {
     "name": "stdout",
     "output_type": "stream",
     "text": [
      "14102\n"
     ]
    }
   ],
   "source": [
    "print((new_df['Health_Status']==0).sum())"
   ]
  },
  {
   "cell_type": "code",
   "execution_count": null,
   "metadata": {},
   "outputs": [],
   "source": [
    "# Exporting\n",
    "output_file_path = '/Users/tejuskhandelwal/Desktop/UGP/training_data.csv' \n",
    "new_df.to_csv(output_file_path, index=False)"
   ]
  }
 ],
 "metadata": {
  "kernelspec": {
   "display_name": "Python 3",
   "language": "python",
   "name": "python3"
  },
  "language_info": {
   "codemirror_mode": {
    "name": "ipython",
    "version": 3
   },
   "file_extension": ".py",
   "mimetype": "text/x-python",
   "name": "python",
   "nbconvert_exporter": "python",
   "pygments_lexer": "ipython3",
   "version": "3.9.6"
  }
 },
 "nbformat": 4,
 "nbformat_minor": 2
}
