{
  "nbformat": 4,
  "nbformat_minor": 0,
  "metadata": {
    "colab": {
      "provenance": []
    },
    "kernelspec": {
      "name": "python3",
      "display_name": "Python 3"
    },
    "language_info": {
      "name": "python"
    }
  },
  "cells": [
    {
      "cell_type": "code",
      "execution_count": null,
      "metadata": {
        "id": "geHtj8nR307Z"
      },
      "outputs": [],
      "source": [
        "import pandas as pd\n",
        "import numpy as np"
      ]
    },
    {
      "cell_type": "code",
      "source": [
        "data = pd.read_csv('/content/India_2017.csv')\n",
        "print(data.head())"
      ],
      "metadata": {
        "colab": {
          "base_uri": "https://localhost:8080/"
        },
        "id": "Q_QSWhlg402y",
        "outputId": "c6c737ee-c69c-42ed-fd62-254a32eddc6a"
      },
      "execution_count": null,
      "outputs": [
        {
          "output_type": "stream",
          "name": "stdout",
          "text": [
            "  LATITUDE LONGITUDE    PH   TH   CA     MG CHLORIDE SULPHATE NITRATE FLUORIDE\n",
            "0  13.9728   77.7314  7.67  240   50  28.02      209       62      40     0.37\n",
            "1  14.6717   77.4583  7.78  610   96  90.08      291       58      42     1.43\n",
            "2  14.4117   77.7200  7.38  510  132  43.92      277       41      83     0.85\n",
            "3  15.1167   77.6431  7.35  610  148  58.53      383       20      45     0.32\n",
            "4  15.1681   77.3764  7.78  610  140  63.38      319      256     285     0.42\n"
          ]
        }
      ]
    },
    {
      "cell_type": "code",
      "source": [
        "# BIS limits -\n",
        "# Ph = 6.5 to 8.5  NO Relaxation\n",
        "# Th = 200 600\n",
        "# CA = 75 200\n",
        "# MG = 30 100\n",
        "# Cl = 250 1000\n",
        "# Sulphate = 200 400\n",
        "# Nitrate = 75 NO Relaxation\n",
        "# Flouride = 1 1.5\n",
        "# TDS = 500 2000"
      ],
      "metadata": {
        "id": "xWiDD6NB47vH"
      },
      "execution_count": null,
      "outputs": []
    },
    {
      "cell_type": "code",
      "source": [
        "print(np.sum(data.isna()))\n",
        "# print(data['CA'].value_counts())\n",
        "# print(data['MG'].value_counts())\n",
        "# print(data['FLUORIDE'].value_counts())"
      ],
      "metadata": {
        "colab": {
          "base_uri": "https://localhost:8080/"
        },
        "id": "itXtwSShZ-xD",
        "outputId": "1c1755d7-1839-4f88-e0a0-22770b0bfb98"
      },
      "execution_count": null,
      "outputs": [
        {
          "output_type": "stream",
          "name": "stdout",
          "text": [
            "LATITUDE        4\n",
            "LONGITUDE       4\n",
            "PH              4\n",
            "TH           1619\n",
            "CA           1339\n",
            "MG           1349\n",
            "CHLORIDE        7\n",
            "SULPHATE     1338\n",
            "NITRATE      2136\n",
            "FLUORIDE     1205\n",
            "dtype: int64\n"
          ]
        },
        {
          "output_type": "stream",
          "name": "stderr",
          "text": [
            "/usr/local/lib/python3.10/dist-packages/numpy/core/fromnumeric.py:86: FutureWarning: The behavior of DataFrame.sum with axis=None is deprecated, in a future version this will reduce over both axes and return a scalar. To retain the old behavior, pass axis=0 (or do not pass axis)\n",
            "  return reduction(axis=axis, out=out, **passkwargs)\n"
          ]
        }
      ]
    },
    {
      "cell_type": "code",
      "source": [
        "data['CA'] = data['CA'].str.strip()\n",
        "data['MG'] = data['MG'].str.strip()\n",
        "data['FLUORIDE'] = data['FLUORIDE'].str.strip()\n",
        "data.replace(['ND', 'BDL'], 0, inplace=True)"
      ],
      "metadata": {
        "id": "gC2cdS42Z7Sb"
      },
      "execution_count": null,
      "outputs": []
    },
    {
      "cell_type": "code",
      "source": [
        "print(data['CA'].value_counts())"
      ],
      "metadata": {
        "colab": {
          "base_uri": "https://localhost:8080/"
        },
        "id": "NUunLDOue6sA",
        "outputId": "7d0c692a-238a-4876-a5a9-94515b671373"
      },
      "execution_count": null,
      "outputs": [
        {
          "output_type": "stream",
          "name": "stdout",
          "text": [
            "CA\n",
            "40     505\n",
            "48     354\n",
            "20     349\n",
            "44     348\n",
            "36     325\n",
            "      ... \n",
            "432      1\n",
            "920      1\n",
            "960      1\n",
            "880      1\n",
            "85       1\n",
            "Name: count, Length: 558, dtype: int64\n"
          ]
        }
      ]
    },
    {
      "cell_type": "code",
      "source": [
        "exclude_columns = ['LATITUDE', 'LONGITUDE']\n",
        "data[data.columns.difference(exclude_columns)] = data[data.columns.difference(exclude_columns)].apply(pd.to_numeric, errors='coerce')\n",
        "\n"
      ],
      "metadata": {
        "id": "he5SuO7SDPUu"
      },
      "execution_count": null,
      "outputs": []
    },
    {
      "cell_type": "code",
      "source": [
        "print(np.sum(data.isna()))"
      ],
      "metadata": {
        "colab": {
          "base_uri": "https://localhost:8080/"
        },
        "id": "hH3ZH0TOCJiN",
        "outputId": "cfb5e5b2-7b05-41e1-dceb-50803e35b915"
      },
      "execution_count": null,
      "outputs": [
        {
          "output_type": "stream",
          "name": "stdout",
          "text": [
            "LATITUDE        4\n",
            "LONGITUDE       4\n",
            "PH              9\n",
            "TH           1622\n",
            "CA           1342\n",
            "MG           1352\n",
            "CHLORIDE       10\n",
            "SULPHATE     1342\n",
            "NITRATE      2163\n",
            "FLUORIDE     1273\n",
            "dtype: int64\n"
          ]
        }
      ]
    },
    {
      "cell_type": "code",
      "source": [
        "null_values = data[data['CHLORIDE'].isnull()]['CHLORIDE']\n",
        "print(null_values)"
      ],
      "metadata": {
        "colab": {
          "base_uri": "https://localhost:8080/"
        },
        "id": "-xv974YcsoBQ",
        "outputId": "e9ab6a3b-ffaa-414c-9da1-9083ddda895c"
      },
      "execution_count": null,
      "outputs": [
        {
          "output_type": "stream",
          "name": "stdout",
          "text": [
            "920    NaN\n",
            "5816   NaN\n",
            "8448   NaN\n",
            "8455   NaN\n",
            "8485   NaN\n",
            "8501   NaN\n",
            "Name: CHLORIDE, dtype: float64\n"
          ]
        }
      ]
    },
    {
      "cell_type": "code",
      "source": [
        "data = data.dropna()\n",
        "print(np.sum(data.isna()))"
      ],
      "metadata": {
        "colab": {
          "base_uri": "https://localhost:8080/"
        },
        "id": "xAJQD2ZBCZTi",
        "outputId": "d034433c-b28d-4a28-e2d3-e1295e37f29d"
      },
      "execution_count": null,
      "outputs": [
        {
          "output_type": "stream",
          "name": "stdout",
          "text": [
            "LATITUDE     0\n",
            "LONGITUDE    0\n",
            "PH           0\n",
            "TH           0\n",
            "CA           0\n",
            "MG           0\n",
            "CHLORIDE     0\n",
            "SULPHATE     0\n",
            "NITRATE      0\n",
            "FLUORIDE     0\n",
            "dtype: int64\n"
          ]
        }
      ]
    },
    {
      "cell_type": "code",
      "source": [
        "print(data['CA'].value_counts())"
      ],
      "metadata": {
        "colab": {
          "base_uri": "https://localhost:8080/"
        },
        "id": "iTGsS2WemDfs",
        "outputId": "bb3df463-919b-45f9-df8d-07b5ae09fafa"
      },
      "execution_count": null,
      "outputs": [
        {
          "output_type": "stream",
          "name": "stdout",
          "text": [
            "CA\n",
            "40.00     316\n",
            "48.00     238\n",
            "44.00     233\n",
            "80.00     228\n",
            "56.00     200\n",
            "         ... \n",
            "158.80      1\n",
            "60.65       1\n",
            "6.40        1\n",
            "11.21       1\n",
            "236.00      1\n",
            "Name: count, Length: 363, dtype: int64\n"
          ]
        }
      ]
    },
    {
      "cell_type": "code",
      "source": [
        "print(data)"
      ],
      "metadata": {
        "colab": {
          "base_uri": "https://localhost:8080/"
        },
        "id": "iBNFSB16EyJc",
        "outputId": "5001e0af-f72d-45c2-ccdc-f38207bafa5f"
      },
      "execution_count": null,
      "outputs": [
        {
          "output_type": "stream",
          "name": "stdout",
          "text": [
            "     LATITUDE LONGITUDE    PH     TH     CA     MG  CHLORIDE  SULPHATE  \\\n",
            "0     13.9728   77.7314  7.67  240.0   50.0  28.02     209.0      62.0   \n",
            "1     14.6717   77.4583  7.78  610.0   96.0  90.08     291.0      58.0   \n",
            "2     14.4117   77.7200  7.38  510.0  132.0  43.92     277.0      41.0   \n",
            "3     15.1167   77.6431  7.35  610.0  148.0  58.53     383.0      20.0   \n",
            "4     15.1681   77.3764  7.78  610.0  140.0  63.38     319.0     256.0   \n",
            "...       ...       ...   ...    ...    ...    ...       ...       ...   \n",
            "7454  25.7714   88.1875  8.59  120.0   18.0  18.00      57.0       0.0   \n",
            "7455  25.7878   88.1894  8.89   85.0   20.0   8.00      32.0       0.0   \n",
            "7456  25.6811   88.1133  8.66  130.0   22.0  18.00      32.0       0.0   \n",
            "7457  25.7078   88.1172  8.86   95.0   18.0  12.00      27.0       0.0   \n",
            "7458  25.6214   88.1083  8.79  165.0   22.0  27.00      45.0       0.0   \n",
            "\n",
            "      NITRATE  FLUORIDE  \n",
            "0        40.0      0.37  \n",
            "1        42.0      1.43  \n",
            "2        83.0      0.85  \n",
            "3        45.0      0.32  \n",
            "4       285.0      0.42  \n",
            "...       ...       ...  \n",
            "7454     43.4      0.60  \n",
            "7455      3.3      1.20  \n",
            "7456      0.0      0.90  \n",
            "7457      0.4      0.40  \n",
            "7458      0.0      0.80  \n",
            "\n",
            "[7459 rows x 10 columns]\n"
          ]
        }
      ]
    },
    {
      "cell_type": "code",
      "source": [
        "data = data.reset_index(drop=True)\n"
      ],
      "metadata": {
        "id": "Jd_Hbl7Ys6UR"
      },
      "execution_count": null,
      "outputs": []
    },
    {
      "cell_type": "code",
      "source": [
        "data.to_csv('temp.csv', index=False)"
      ],
      "metadata": {
        "id": "J9LbzUXwn6pR"
      },
      "execution_count": null,
      "outputs": []
    },
    {
      "cell_type": "code",
      "source": [
        "def generate_sub_indices(data, sub_indices):\n",
        "  columns = ['TH', 'CA', 'MG', 'CHLORIDE', 'SULPHATE', 'FLUORIDE', 'TDS']\n",
        "  acceptable_limits = {'TH':200,'CA':75,'MG':30,'CHLORIDE':250,'SULPHATE':200,'FLUORIDE':1,'TDS':500}\n",
        "  permissible_limits = {'TH':600,'CA':200,'MG':100,'CHLORIDE':1000,'SULPHATE':400,'FLUORIDE':1.5,'TDS':2000}\n",
        "\n",
        "  sub_indices = pd.DataFrame(index=data.index)\n",
        "\n",
        "  sub_indices['PH'] = 0.0\n",
        "  for i, value in enumerate(data['PH']):\n",
        "    # print(f\"Index: {i}, pH Value: {value}\")  # Debug print\n",
        "    if value >= 6.5 and value <= 8.5:\n",
        "        sub_indices['PH'].at[i] = 100\n",
        "        # print(f\"Index: {i}, PH Value: {sub_indices['PH'].at[i]}\")  # Debug print\n",
        "    else:\n",
        "        sub_indices['PH'].at[i] = 0\n",
        "\n",
        "\n",
        "\n",
        "  for col in columns:\n",
        "    sub_indices[col] = 0.0\n",
        "    for i,value in enumerate(data[col]):\n",
        "      if value <= acceptable_limits[col]:\n",
        "        sub_indices[col].at[i] = 100\n",
        "      elif value > permissible_limits[col]:\n",
        "        sub_indices[col].at[i] = 0\n",
        "      else:\n",
        "        sub_indices[col].at[i] = (permissible_limits[col] - value)/(permissible_limits[col]-acceptable_limits[col])*100\n",
        "\n",
        "\n",
        "  sub_indices['NITRATE'] = 0.0\n",
        "  for i,value in enumerate(data['NITRATE']):\n",
        "    if value <= 75:\n",
        "      sub_indices['NITRATE'].at[i] = 100\n",
        "    else :\n",
        "      sub_indices['NITRATE'].at[i] = 0\n",
        "\n",
        "  return sub_indices"
      ],
      "metadata": {
        "id": "C6fexw2F5dq_"
      },
      "execution_count": null,
      "outputs": []
    },
    {
      "cell_type": "code",
      "source": [
        "sub_indices = pd.DataFrame()\n",
        "sub_indices = generate_sub_indices(data, sub_indices)\n",
        "print(sub_indices)"
      ],
      "metadata": {
        "colab": {
          "base_uri": "https://localhost:8080/"
        },
        "id": "bV-SdIu4BHyx",
        "outputId": "d57b167a-3dff-4cb5-ae5b-173589f4ccf4"
      },
      "execution_count": null,
      "outputs": [
        {
          "output_type": "stream",
          "name": "stdout",
          "text": [
            "         PH     TH     CA          MG    CHLORIDE  SULPHATE  FLUORIDE  NITRATE\n",
            "0     100.0   90.0  100.0  100.000000  100.000000     100.0     100.0    100.0\n",
            "1     100.0    0.0   83.2   14.171429   94.533333     100.0      14.0    100.0\n",
            "2     100.0   22.5   54.4   80.114286   96.400000     100.0     100.0      0.0\n",
            "3     100.0    0.0   41.6   59.242857   82.266667     100.0     100.0    100.0\n",
            "4     100.0    0.0   48.0   52.314286   90.800000      72.0     100.0      0.0\n",
            "...     ...    ...    ...         ...         ...       ...       ...      ...\n",
            "7454    0.0  100.0  100.0  100.000000  100.000000     100.0     100.0    100.0\n",
            "7455    0.0  100.0  100.0  100.000000  100.000000     100.0      60.0    100.0\n",
            "7456    0.0  100.0  100.0  100.000000  100.000000     100.0     100.0    100.0\n",
            "7457    0.0  100.0  100.0  100.000000  100.000000     100.0     100.0    100.0\n",
            "7458    0.0  100.0  100.0  100.000000  100.000000     100.0     100.0    100.0\n",
            "\n",
            "[7459 rows x 8 columns]\n"
          ]
        }
      ]
    },
    {
      "cell_type": "code",
      "source": [
        "sub_indices.to_csv('temp2.csv', index=False)"
      ],
      "metadata": {
        "id": "lIJ4D3nZoMwT"
      },
      "execution_count": null,
      "outputs": []
    },
    {
      "cell_type": "code",
      "source": [
        "print(sub_indices.shape)"
      ],
      "metadata": {
        "colab": {
          "base_uri": "https://localhost:8080/"
        },
        "id": "Yu20MW9hBMV8",
        "outputId": "207285b6-1ae9-4c7a-8c29-6c078c4d8b22"
      },
      "execution_count": null,
      "outputs": [
        {
          "output_type": "stream",
          "name": "stdout",
          "text": [
            "(11103, 9)\n"
          ]
        }
      ]
    },
    {
      "cell_type": "code",
      "source": [
        "new_order = ['PH','TH','CA','MG','CHLORIDE','SULPHATE','NITRATE','FLUORIDE','TDS']\n",
        "sub_indices = sub_indices[new_order]\n",
        "print(sub_indices)"
      ],
      "metadata": {
        "colab": {
          "base_uri": "https://localhost:8080/"
        },
        "id": "_jFHRkLfINH4",
        "outputId": "47d340e6-154e-4d49-c672-44c1e80bb425"
      },
      "execution_count": null,
      "outputs": [
        {
          "output_type": "stream",
          "name": "stdout",
          "text": [
            "         PH     TH     CA          MG    CHLORIDE  SULPHATE  NITRATE  FLUORIDE\n",
            "0     100.0   90.0  100.0  100.000000  100.000000     100.0    100.0     100.0\n",
            "1     100.0    0.0   83.2   14.171429   94.533333     100.0    100.0      14.0\n",
            "2     100.0   22.5   54.4   80.114286   96.400000     100.0      0.0     100.0\n",
            "3     100.0    0.0   41.6   59.242857   82.266667     100.0    100.0     100.0\n",
            "4     100.0    0.0   48.0   52.314286   90.800000      72.0      0.0     100.0\n",
            "...     ...    ...    ...         ...         ...       ...      ...       ...\n",
            "7454    0.0  100.0  100.0  100.000000  100.000000     100.0    100.0     100.0\n",
            "7455    0.0  100.0  100.0  100.000000  100.000000     100.0    100.0      60.0\n",
            "7456    0.0  100.0  100.0  100.000000  100.000000     100.0    100.0     100.0\n",
            "7457    0.0  100.0  100.0  100.000000  100.000000     100.0    100.0     100.0\n",
            "7458    0.0  100.0  100.0  100.000000  100.000000     100.0    100.0     100.0\n",
            "\n",
            "[7459 rows x 8 columns]\n"
          ]
        }
      ]
    },
    {
      "cell_type": "code",
      "source": [
        "sub_indices['LATITUDE'] = data['LATITUDE']\n",
        "sub_indices['LONGITUDE'] = data['LONGITUDE']\n",
        "new_order = ['LATITUDE','LONGITUDE','PH','TH','CA','MG','CHLORIDE','SULPHATE','NITRATE','FLUORIDE','TDS']\n",
        "\n",
        "sub_indices = sub_indices[new_order]\n",
        "print(sub_indices)"
      ],
      "metadata": {
        "colab": {
          "base_uri": "https://localhost:8080/"
        },
        "id": "79to9Md7IlhV",
        "outputId": "b60ad764-13aa-437c-938f-06c5a546a7a0"
      },
      "execution_count": null,
      "outputs": [
        {
          "output_type": "stream",
          "name": "stdout",
          "text": [
            "     LATITUDE LONGITUDE     PH     TH     CA          MG    CHLORIDE  \\\n",
            "0     13.9728   77.7314  100.0   90.0  100.0  100.000000  100.000000   \n",
            "1     14.6717   77.4583  100.0    0.0   83.2   14.171429   94.533333   \n",
            "2     14.4117   77.7200  100.0   22.5   54.4   80.114286   96.400000   \n",
            "3     15.1167   77.6431  100.0    0.0   41.6   59.242857   82.266667   \n",
            "4     15.1681   77.3764  100.0    0.0   48.0   52.314286   90.800000   \n",
            "...       ...       ...    ...    ...    ...         ...         ...   \n",
            "7454  25.7714   88.1875    0.0  100.0  100.0  100.000000  100.000000   \n",
            "7455  25.7878   88.1894    0.0  100.0  100.0  100.000000  100.000000   \n",
            "7456  25.6811   88.1133    0.0  100.0  100.0  100.000000  100.000000   \n",
            "7457  25.7078   88.1172    0.0  100.0  100.0  100.000000  100.000000   \n",
            "7458  25.6214   88.1083    0.0  100.0  100.0  100.000000  100.000000   \n",
            "\n",
            "      SULPHATE  NITRATE  FLUORIDE  \n",
            "0        100.0    100.0     100.0  \n",
            "1        100.0    100.0      14.0  \n",
            "2        100.0      0.0     100.0  \n",
            "3        100.0    100.0     100.0  \n",
            "4         72.0      0.0     100.0  \n",
            "...        ...      ...       ...  \n",
            "7454     100.0    100.0     100.0  \n",
            "7455     100.0    100.0      60.0  \n",
            "7456     100.0    100.0     100.0  \n",
            "7457     100.0    100.0     100.0  \n",
            "7458     100.0    100.0     100.0  \n",
            "\n",
            "[7459 rows x 10 columns]\n"
          ]
        }
      ]
    },
    {
      "cell_type": "code",
      "source": [
        "# Specify the columns you want to round\n",
        "cols_to_round = ['PH', 'TH', 'CA', 'MG', 'CHLORIDE', 'SULPHATE', 'FLUORIDE', 'TDS', 'NITRATE']\n",
        "\n",
        "# Round the specified columns to 2 decimal places\n",
        "sub_indices[cols_to_round] = sub_indices[cols_to_round].round(2)"
      ],
      "metadata": {
        "id": "df2h02u5Xosr"
      },
      "execution_count": null,
      "outputs": []
    },
    {
      "cell_type": "markdown",
      "source": [
        "[0.03634713 0.66755045 0.03526272 0.06432972 0.03429169 0.02069839\n",
        " 0.08058257 0.06093731 0.14412291]"
      ],
      "metadata": {
        "id": "jGJ_6XlBUSYl"
      }
    },
    {
      "cell_type": "code",
      "source": [
        "shap_weights = {'PH':0.03176855,\n",
        " 'TH':0.58346045,\n",
        " 'CA':0.03082074,\n",
        " 'MG':0.05622624,\n",
        " 'CHLORIDE':0.02997204,\n",
        " 'SULPHATE':0.01809105,\n",
        " 'NITRATE':0.07043174,\n",
        " 'FLUORIDE':0.05326117,\n",
        " 'TDS':0.12596802}\n"
      ],
      "metadata": {
        "id": "EcVmk7KUJPUy"
      },
      "execution_count": null,
      "outputs": []
    },
    {
      "cell_type": "code",
      "source": [
        "cols = ['PH','TH','CA','MG','CHLORIDE','SULPHATE','NITRATE','FLUORIDE','TDS']\n",
        "\n",
        "sub_indices['AWQI'] = sum(sub_indices[col] * shap_weights[col] for col in cols)\n",
        "print(sub_indices)\n"
      ],
      "metadata": {
        "colab": {
          "base_uri": "https://localhost:8080/"
        },
        "id": "DknaonlPJv00",
        "outputId": "99614323-00fa-48f3-e64a-02640fd5ccc5"
      },
      "execution_count": null,
      "outputs": [
        {
          "output_type": "stream",
          "name": "stdout",
          "text": [
            "     LATITUDE LONGITUDE     PH     TH     CA      MG  CHLORIDE  SULPHATE  \\\n",
            "0     13.9728   77.7314  100.0   90.0  100.0  100.00    100.00     100.0   \n",
            "1     14.6717   77.4583  100.0    0.0   83.2   14.17     94.53     100.0   \n",
            "2     14.4117   77.7200  100.0   22.5   54.4   80.11     96.40     100.0   \n",
            "3     15.1167   77.6431  100.0    0.0   41.6   59.24     82.27     100.0   \n",
            "4     15.1681   77.3764  100.0    0.0   48.0   52.31     90.80      72.0   \n",
            "...       ...       ...    ...    ...    ...     ...       ...       ...   \n",
            "7454  25.7714   88.1875    0.0  100.0  100.0  100.00    100.00     100.0   \n",
            "7455  25.7878   88.1894    0.0  100.0  100.0  100.00    100.00     100.0   \n",
            "7456  25.6811   88.1133    0.0  100.0  100.0  100.00    100.00     100.0   \n",
            "7457  25.7078   88.1172    0.0  100.0  100.0  100.00    100.00     100.0   \n",
            "7458  25.6214   88.1083    0.0  100.0  100.0  100.00    100.00     100.0   \n",
            "\n",
            "      NITRATE  FLUORIDE       AWQI  \n",
            "0       100.0     100.0  93.324494  \n",
            "1       100.0      14.0  21.702935  \n",
            "2         0.0     100.0  37.195633  \n",
            "3       100.0     100.0  27.955539  \n",
            "4         0.0     100.0  19.390112  \n",
            "...       ...       ...        ...  \n",
            "7454    100.0     100.0  96.365285  \n",
            "7455    100.0      60.0  93.927793  \n",
            "7456    100.0     100.0  96.365285  \n",
            "7457    100.0     100.0  96.365285  \n",
            "7458    100.0     100.0  96.365285  \n",
            "\n",
            "[7459 rows x 11 columns]\n"
          ]
        }
      ]
    },
    {
      "cell_type": "code",
      "source": [
        "sub_indices['AWQI'] = sub_indices['AWQI'].round(2)\n",
        "print(sub_indices)"
      ],
      "metadata": {
        "colab": {
          "base_uri": "https://localhost:8080/"
        },
        "id": "7WYJD_jjWygA",
        "outputId": "58b5e2fd-dddf-424e-f6e3-639f8b4a99ae"
      },
      "execution_count": null,
      "outputs": [
        {
          "output_type": "stream",
          "name": "stdout",
          "text": [
            "     LATITUDE LONGITUDE     PH     TH     CA      MG  CHLORIDE  SULPHATE  \\\n",
            "0     13.9728   77.7314  100.0   90.0  100.0  100.00    100.00     100.0   \n",
            "1     14.6717   77.4583  100.0    0.0   83.2   14.17     94.53     100.0   \n",
            "2     14.4117   77.7200  100.0   22.5   54.4   80.11     96.40     100.0   \n",
            "3     15.1167   77.6431  100.0    0.0   41.6   59.24     82.27     100.0   \n",
            "4     15.1681   77.3764  100.0    0.0   48.0   52.31     90.80      72.0   \n",
            "...       ...       ...    ...    ...    ...     ...       ...       ...   \n",
            "7454  25.7714   88.1875    0.0  100.0  100.0  100.00    100.00     100.0   \n",
            "7455  25.7878   88.1894    0.0  100.0  100.0  100.00    100.00     100.0   \n",
            "7456  25.6811   88.1133    0.0  100.0  100.0  100.00    100.00     100.0   \n",
            "7457  25.7078   88.1172    0.0  100.0  100.0  100.00    100.00     100.0   \n",
            "7458  25.6214   88.1083    0.0  100.0  100.0  100.00    100.00     100.0   \n",
            "\n",
            "      NITRATE  FLUORIDE   AWQI  \n",
            "0       100.0     100.0  93.32  \n",
            "1       100.0      14.0  21.70  \n",
            "2         0.0     100.0  37.20  \n",
            "3       100.0     100.0  27.96  \n",
            "4         0.0     100.0  19.39  \n",
            "...       ...       ...    ...  \n",
            "7454    100.0     100.0  96.37  \n",
            "7455    100.0      60.0  93.93  \n",
            "7456    100.0     100.0  96.37  \n",
            "7457    100.0     100.0  96.37  \n",
            "7458    100.0     100.0  96.37  \n",
            "\n",
            "[7459 rows x 11 columns]\n"
          ]
        }
      ]
    },
    {
      "cell_type": "code",
      "source": [
        "sub_indices.to_csv('AWQI_India_2017.csv', index=False)"
      ],
      "metadata": {
        "id": "UiSEgFFHJ4Zb"
      },
      "execution_count": null,
      "outputs": []
    },
    {
      "cell_type": "code",
      "source": [],
      "metadata": {
        "id": "A22L66tTWtq8"
      },
      "execution_count": null,
      "outputs": []
    }
  ]
}