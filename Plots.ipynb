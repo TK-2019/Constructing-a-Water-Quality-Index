{
  "nbformat": 4,
  "nbformat_minor": 0,
  "metadata": {
    "colab": {
      "provenance": []
    },
    "kernelspec": {
      "name": "python3",
      "display_name": "Python 3"
    },
    "language_info": {
      "name": "python"
    }
  },
  "cells": [
    {
      "cell_type": "code",
      "execution_count": null,
      "metadata": {
        "id": "7PNhb76Irpzl"
      },
      "outputs": [],
      "source": [
        "import pandas as pd\n",
        "import re\n",
        "import numpy as np\n",
        "import geopandas as gpd\n",
        "import pandas as pd\n",
        "import matplotlib.pyplot as plt\n",
        "from matplotlib import colors"
      ]
    },
    {
      "cell_type": "code",
      "source": [
        "data = pd.read_csv('/content/AWQI_India_2017.csv')\n",
        "print(data.head())"
      ],
      "metadata": {
        "colab": {
          "base_uri": "https://localhost:8080/"
        },
        "id": "fdnfTOfcr3VW",
        "outputId": "c649bb15-df98-4b85-acb9-3707ae5988b6"
      },
      "execution_count": null,
      "outputs": [
        {
          "output_type": "stream",
          "name": "stdout",
          "text": [
            "  LATITUDE LONGITUDE     PH    TH     CA      MG  CHLORIDE  SULPHATE  NITRATE  \\\n",
            "0  13.9728   77.7314  100.0  90.0  100.0  100.00    100.00     100.0    100.0   \n",
            "1  14.6717   77.4583  100.0   0.0   83.2   14.17     94.53     100.0    100.0   \n",
            "2  14.4117   77.7200  100.0  22.5   54.4   80.11     96.40     100.0      0.0   \n",
            "3  15.1167   77.6431  100.0   0.0   41.6   59.24     82.27     100.0    100.0   \n",
            "4  15.1681   77.3764  100.0   0.0   48.0   52.31     90.80      72.0      0.0   \n",
            "\n",
            "   FLUORIDE   AWQI  \n",
            "0     100.0  93.32  \n",
            "1      14.0  21.70  \n",
            "2     100.0  37.20  \n",
            "3     100.0  27.96  \n",
            "4     100.0  19.39  \n"
          ]
        }
      ]
    },
    {
      "cell_type": "code",
      "source": [
        "def dms_to_decimal(dms_str, default_direction=None):\n",
        "    # Match degrees, minutes, seconds, and optional hemisphere\n",
        "    dms_regex = re.match(r\"(\\d+)°(\\d+)'([\\d.]+)\\\"? ?([NSEW]?)\", dms_str.strip())\n",
        "\n",
        "    if dms_regex:\n",
        "        degrees = int(dms_regex.group(1))\n",
        "        minutes = int(dms_regex.group(2))\n",
        "        seconds = float(dms_regex.group(3))\n",
        "        # Use captured direction if present, otherwise apply the default\n",
        "        direction = dms_regex.group(4) if dms_regex.group(4) else default_direction\n",
        "\n",
        "        # Calculate decimal degrees\n",
        "        decimal = degrees + minutes / 60 + seconds / 3600\n",
        "\n",
        "        # For South and West coordinates, negate the decimal value\n",
        "        if direction in ['S', 'W']:\n",
        "            decimal *= -1\n",
        "\n",
        "        return decimal\n",
        "    else:\n",
        "        raise ValueError(f\"Invalid DMS format: {dms_str}\")\n"
      ],
      "metadata": {
        "id": "CKHQpFMBsYLB"
      },
      "execution_count": null,
      "outputs": []
    },
    {
      "cell_type": "code",
      "source": [
        "def convert_coordinate(coord_str, default_direction):\n",
        "    # Check if it's already in decimal format (by checking for a decimal point)\n",
        "    try:\n",
        "        # If it can be converted to a float, it's already in decimal\n",
        "        return float(coord_str)\n",
        "    except ValueError:\n",
        "        try:\n",
        "        # If it's not a float, assume it's in DMS format and convert\n",
        "         return dms_to_decimal(coord_str, default_direction)\n",
        "        except ValueError:\n",
        "          return None"
      ],
      "metadata": {
        "id": "iun5mVe2r82X"
      },
      "execution_count": null,
      "outputs": []
    },
    {
      "cell_type": "code",
      "source": [
        "data['Latitude_Decimal'] = data['LATITUDE'].apply(lambda x: convert_coordinate(x, 'N'))\n",
        "data['Longitude_Decimal'] = data['LONGITUDE'].apply(lambda x: convert_coordinate(x, 'E'))"
      ],
      "metadata": {
        "id": "3iWJySr_sjuW"
      },
      "execution_count": null,
      "outputs": []
    },
    {
      "cell_type": "code",
      "source": [
        "data = data.dropna(subset=['Latitude_Decimal', 'Longitude_Decimal'])"
      ],
      "metadata": {
        "id": "JiUqbgBKNrxQ"
      },
      "execution_count": null,
      "outputs": []
    },
    {
      "cell_type": "code",
      "source": [],
      "metadata": {
        "id": "bocFm9jexTDA"
      },
      "execution_count": null,
      "outputs": []
    },
    {
      "cell_type": "code",
      "source": [
        "print(data['Latitude_Decimal'])\n",
        "print(data['Longitude_Decimal'])"
      ],
      "metadata": {
        "colab": {
          "base_uri": "https://localhost:8080/"
        },
        "id": "zAsXDcigsyh2",
        "outputId": "f882deaa-10e5-47ad-f387-c3d9d88f6610"
      },
      "execution_count": null,
      "outputs": [
        {
          "output_type": "stream",
          "name": "stdout",
          "text": [
            "0       13.9728\n",
            "1       14.6717\n",
            "2       14.4117\n",
            "3       15.1167\n",
            "4       15.1681\n",
            "         ...   \n",
            "6937    25.7714\n",
            "6938    25.7878\n",
            "6939    25.6811\n",
            "6940    25.7078\n",
            "6941    25.6214\n",
            "Name: Latitude_Decimal, Length: 6942, dtype: float64\n",
            "0       77.7314\n",
            "1       77.4583\n",
            "2       77.7200\n",
            "3       77.6431\n",
            "4       77.3764\n",
            "         ...   \n",
            "6937    88.1875\n",
            "6938    88.1894\n",
            "6939    88.1133\n",
            "6940    88.1172\n",
            "6941    88.1083\n",
            "Name: Longitude_Decimal, Length: 6942, dtype: float64\n"
          ]
        }
      ]
    },
    {
      "cell_type": "code",
      "source": [
        "data = data.reset_index(drop=True)"
      ],
      "metadata": {
        "id": "M6zuDxm_xUWg"
      },
      "execution_count": null,
      "outputs": []
    },
    {
      "cell_type": "code",
      "source": [
        "# Load country and state boundary shapefiles and ensure they are in the same CRS\n",
        "country_boundary_path = '/content/IndiaBoundary.shp'\n",
        "state_boundary_path = '/content/India-States.shp'\n",
        "\n",
        "country_boundary = gpd.read_file(country_boundary_path).to_crs(epsg=4326)\n",
        "state_boundary = gpd.read_file(state_boundary_path).to_crs(epsg=4326)\n",
        "\n",
        "# Create a figure and axis with matplotlib\n",
        "fig, ax = plt.subplots(figsize=(10, 12))\n",
        "\n",
        "# Plot the country boundary\n",
        "country_boundary.plot(ax=ax, edgecolor=\"black\", linewidth=2, facecolor=\"none\")\n",
        "\n",
        "# Plot state boundaries\n",
        "state_boundary.plot(ax=ax, edgecolor=\"grey\", linewidth=1, facecolor=\"none\")\n",
        "\n",
        "# Normalize the water quality index values for proportional circle sizing\n",
        "max_index = data['AWQI'].max()\n",
        "min_index = data['AWQI'].min()\n",
        "\n",
        "# Plot the points using scatter and color them by index\n",
        "scatter = ax.scatter(\n",
        "    data['Longitude_Decimal'], data['Latitude_Decimal'],\n",
        "    c=data['AWQI'],  # Color based on index\n",
        "    s = 10,\n",
        "    cmap='RdYlGn', alpha=0.6, edgecolor=\"k\"\n",
        ")\n",
        "\n",
        "# Add color bar for the water quality index\n",
        "cbar = plt.colorbar(scatter, ax=ax, orientation=\"vertical\")\n",
        "cbar.set_label(\"Water Quality Index\")\n",
        "\n",
        "# Set labels and title\n",
        "ax.set_xlabel(\"Longitude\")\n",
        "ax.set_ylabel(\"Latitude\")\n",
        "ax.set_title(\"Water Quality Index Across India with State Boundaries\")\n",
        "\n",
        "plt.show()\n"
      ],
      "metadata": {
        "id": "dxzLinDUOeCG"
      },
      "execution_count": null,
      "outputs": []
    },
    {
      "cell_type": "code",
      "source": [
        "fig, ax = plt.subplots(figsize=(10, 12))\n",
        "country_boundary.plot(ax=ax, edgecolor=\"black\", linewidth=2, facecolor=\"none\")\n",
        "state_boundary.plot(ax=ax, edgecolor=\"grey\", linewidth=1, facecolor=\"none\")\n",
        "plt.show()\n"
      ],
      "metadata": {
        "id": "wnUlku4dyiUV"
      },
      "execution_count": null,
      "outputs": []
    },
    {
      "cell_type": "code",
      "source": [
        "\n"
      ],
      "metadata": {
        "id": "-gLq9g-Ls50Y"
      },
      "execution_count": null,
      "outputs": []
    },
    {
      "cell_type": "code",
      "source": [],
      "metadata": {
        "id": "5W46fSVRNV7Z"
      },
      "execution_count": null,
      "outputs": []
    },
    {
      "cell_type": "code",
      "source": [],
      "metadata": {
        "id": "-5KqB6yqMjzl"
      },
      "execution_count": null,
      "outputs": []
    }
  ]
}